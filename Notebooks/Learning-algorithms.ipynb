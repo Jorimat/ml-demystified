{
 "cells": [
  {
   "cell_type": "markdown",
   "metadata": {},
   "source": [
    "# Learning algorithms\n"
   ]
  },
  {
   "cell_type": "markdown",
   "metadata": {},
   "source": [
    "## Overview\n",
    "\n",
    "<img src=\"../img/venn.png\" width=\"1000\">"
   ]
  },
  {
   "cell_type": "markdown",
   "metadata": {},
   "source": [
    "## Supervised learning\n",
    "Build models based on data with known output.\n",
    "\n",
    "<img src=\"../img/train-test02.png\" width=\"500\">\n",
    "\n",
    "\n",
    "### Regression\n",
    "Predict new value in continuous domain.\n",
    "\n",
    "Examples:\n",
    "- house market price setting\n",
    "- weather forecasting\n",
    "\n",
    "### Classification\n",
    "Predict discrete value (class, label)\n",
    "\n",
    "Examples\n",
    "- spam filters\n",
    "- tumor images: benign or malign"
   ]
  },
  {
   "cell_type": "markdown",
   "metadata": {},
   "source": [
    "## Unsupervised learning\n",
    "Output is not known or defined.\n",
    "\n",
    "<img src=\"../img/unsupervised.png\" width=\"500\">\n",
    "\n",
    "\n",
    "Examples:\n",
    "- Profiling of users of a website\n",
    "- Anomaly detection"
   ]
  },
  {
   "cell_type": "markdown",
   "metadata": {},
   "source": [
    "## To do\n",
    "\n",
    "Find more examples, and decide whether they are supervised or unsupervised learning, and classification or regression."
   ]
  },
  {
   "cell_type": "markdown",
   "metadata": {},
   "source": [
    "## Linear regression\n",
    "\n",
    "<img src=\"../img/linear_regression.png\" width=\"500\">\n"
   ]
  },
  {
   "cell_type": "markdown",
   "metadata": {},
   "source": [
    "## Nearest neighbours\n",
    "\n",
    "In two dimensions (two feature columns), this can be visualised:\n",
    "\n",
    "<img src=\"../img/nearest-neighbours.png\" width=\"500\">\n",
    "\n"
   ]
  },
  {
   "cell_type": "markdown",
   "metadata": {},
   "source": [
    "## Trees\n",
    "\n",
    "<img src=\"../img/decision_tree.jpg\" width=\"400\">\n",
    "\n",
    "### Engineering flowchart\n",
    "\n",
    "\"90% of house maintenance jobs can be done with duct tape or WD-40.\"\n",
    "\n",
    "<img src=\"../img/engineering_flowchart.jpg\" width=\"400\">\n",
    "\n"
   ]
  },
  {
   "cell_type": "markdown",
   "metadata": {},
   "source": [
    "## Deep learning and neural networks\n",
    "\n",
    "### Natural neuron\n",
    "\n",
    "Ca. 100 billion neurons in the human brain.\n",
    "\n",
    "<img src=\"../img/neuron-natural.png\" width=\"400\">\n",
    "\n",
    "### Articial neuron\n",
    "\n",
    "Inspired by natural neuron, but works differently.\n",
    "\n",
    "<img src=\"../img/neuron-artificial.png\" width=\"500\">\n",
    "\n",
    "### Neural network\n",
    "\n",
    "Example: densely connected feedforward NN:\n",
    "\n",
    "<img src=\"../img/neuralnet.jpeg\" width=\"400\">\n",
    "\n",
    "Training a neural network is finding optimal values for the weights and biases.\n",
    "\n"
   ]
  },
  {
   "cell_type": "markdown",
   "metadata": {},
   "source": [
    "### Many different architectures exist\n",
    "\n",
    "<img src=\"../img/neuralnetworks.png\" width=\"700\">\n"
   ]
  },
  {
   "cell_type": "markdown",
   "metadata": {},
   "source": [
    "## Clustering\n",
    "\n",
    "<img src=\"../img/clustering.png\" width=\"800\">\n"
   ]
  },
  {
   "cell_type": "markdown",
   "metadata": {},
   "source": [
    "## Autoencoders\n",
    "\n",
    "Goal: represent a complex thing by a simpler one.\n",
    "\n",
    "How?  Train a neural network to predict itself, where data flows through a bottleneck.  Node values at this bottleneck form encoding.\n",
    "\n",
    "<img src=\"../img/autoencoder02.png\" width=\"500\">\n"
   ]
  },
  {
   "cell_type": "code",
   "execution_count": null,
   "metadata": {},
   "outputs": [],
   "source": []
  }
 ],
 "metadata": {
  "kernelspec": {
   "display_name": "Python 3",
   "language": "python",
   "name": "python3"
  },
  "language_info": {
   "codemirror_mode": {
    "name": "ipython",
    "version": 3
   },
   "file_extension": ".py",
   "mimetype": "text/x-python",
   "name": "python",
   "nbconvert_exporter": "python",
   "pygments_lexer": "ipython3",
   "version": "3.6.4"
  }
 },
 "nbformat": 4,
 "nbformat_minor": 2
}
