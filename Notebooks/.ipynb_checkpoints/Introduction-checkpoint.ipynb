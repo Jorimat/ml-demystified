{
 "cells": [
  {
   "cell_type": "markdown",
   "metadata": {},
   "source": [
    "# Machine Learning Demystified\n",
    "\n",
    "## Preface\n",
    "\n",
    "This course does not bring you\n",
    "- All state-of-the-art technology\n",
    "- A deep statistical foundation\n",
    "- Mathematical derivations\n",
    "\n",
    "But you will get\n",
    "- An introduction to Machine Learning\n",
    "- Some applications\n",
    "- Practical examples\n"
   ]
  },
  {
   "cell_type": "markdown",
   "metadata": {},
   "source": [
    "## ML vs classical programming\n",
    "\n",
    "<img src=\"../img/classical-vs-ml.png\" width=\"400\">\n",
    "\n",
    "ML needs\n",
    "- Input data\n",
    "- Examples of the expected output (only for supervised learing)\n",
    "- A way to measure whether the algorithm is doing a good job\n"
   ]
  },
  {
   "cell_type": "markdown",
   "metadata": {},
   "source": [
    "## Overview\n",
    "\n",
    "<img src=\"../img/framework.png\" width=\"500\">\n"
   ]
  },
  {
   "cell_type": "markdown",
   "metadata": {},
   "source": [
    "## ML value in business\n",
    "\n",
    "<img src=\"../img/testgartnerplus.png\" width=\"700\">\n"
   ]
  }
 ],
 "metadata": {
  "kernelspec": {
   "display_name": "Python 3",
   "language": "python",
   "name": "python3"
  },
  "language_info": {
   "codemirror_mode": {
    "name": "ipython",
    "version": 3
   },
   "file_extension": ".py",
   "mimetype": "text/x-python",
   "name": "python",
   "nbconvert_exporter": "python",
   "pygments_lexer": "ipython3",
   "version": "3.6.4"
  }
 },
 "nbformat": 4,
 "nbformat_minor": 2
}
