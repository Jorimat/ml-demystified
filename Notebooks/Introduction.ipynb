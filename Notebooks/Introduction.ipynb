{
 "cells": [
  {
   "cell_type": "markdown",
   "metadata": {},
   "source": [
    "# Machine Learning Demystified\n",
    "\n",
    "## Preface\n",
    "\n",
    "This course does not bring you\n",
    "- All state-of-the-art technology\n",
    "- A deep statistical foundation\n",
    "- Mathematical derivations\n",
    "\n",
    "But you will get\n",
    "- An introduction to Machine Learning\n",
    "- Some applications\n",
    "- Preactical examples\n"
   ]
  },
  {
   "cell_type": "markdown",
   "metadata": {},
   "source": [
    "## ML vs classical programming\n",
    "\n",
    "<img src=\"../img/classical-vs-ml.png\" width=\"400\">\n",
    "\n",
    "ML needs\n",
    "- Input data\n",
    "- Examples of the expected output (only for supervised learing)\n",
    "- A way to measure whether the algorithm is doing a good job\n"
   ]
  },
  {
   "cell_type": "markdown",
   "metadata": {},
   "source": [
    "## Overview\n",
    "\n",
    "<img src=\"../img/venn.png\" width=\"1000\">\n"
   ]
  },
  {
   "cell_type": "markdown",
   "metadata": {},
   "source": [
    "## Supervised learning\n",
    "Build models based on data with known output.\n",
    "\n",
    "### Regression\n",
    "Predict new value in continuous domain.\n",
    "\n",
    "Examples:\n",
    "- house market price setting\n",
    "- weather forecasting\n",
    "\n",
    "### Classification\n",
    "Predict discrete value (class, label)\n",
    "\n",
    "Examples\n",
    "- spam filters\n",
    "- tumor images: benign or malign\n",
    "\n",
    "\n",
    "## Unsupervised learning\n",
    "Output is not known or defined.\n",
    "\n",
    "### Clustering\n",
    "\n",
    "Examples:\n",
    "- Profiling of users of a website\n",
    "- Anomaly detection\n",
    "\n"
   ]
  },
  {
   "cell_type": "markdown",
   "metadata": {},
   "source": [
    "## ML value in business\n",
    "\n",
    "<img src=\"../img/testgartnerplus.png\" width=\"700\">\n"
   ]
  },
  {
   "cell_type": "markdown",
   "metadata": {},
   "source": [
    "## To do\n",
    "\n",
    "Find more examples, and decide whether they are supervised or unsupervised learning, and classification or regression."
   ]
  }
 ],
 "metadata": {
  "kernelspec": {
   "display_name": "Python 3",
   "language": "python",
   "name": "python3"
  },
  "language_info": {
   "codemirror_mode": {
    "name": "ipython",
    "version": 3
   },
   "file_extension": ".py",
   "mimetype": "text/x-python",
   "name": "python",
   "nbconvert_exporter": "python",
   "pygments_lexer": "ipython3",
   "version": "3.6.4"
  }
 },
 "nbformat": 4,
 "nbformat_minor": 2
}
